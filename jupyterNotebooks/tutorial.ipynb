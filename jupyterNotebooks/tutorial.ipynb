{
 "cells": [
  {
   "cell_type": "markdown",
   "metadata": {},
   "source": [
    "# <font color='blue'> Starting the environment  </font>\n",
    "Once *QMWORKS*  has been installed the user should run the following command to initialize the environment:"
   ]
  },
  {
   "cell_type": "raw",
   "metadata": {},
   "source": [
    "[user@int1 ~]$ source activate qmworks\n",
    "discarding /home/user/anaconda3/bin from PATH\n",
    "prepending /home/user/anaconda3/envs/qmworks/bin to PATH\n",
    "(qmworks)[user@int1 ~]$ python --version\n",
    "Python 3.5.2 :: Anaconda custom (64-bit)"
   ]
  },
  {
   "cell_type": "markdown",
   "metadata": {},
   "source": [
    "To leave the environment the following command is used"
   ]
  },
  {
   "cell_type": "raw",
   "metadata": {},
   "source": [
    "(qmworks)[user@int1 ~]$ source deactivate\n",
    "discarding /home/user/anaconda3/envs/qmworks/bin from PATH"
   ]
  },
  {
   "cell_type": "markdown",
   "metadata": {},
   "source": [
    "# <font color='blue'> What is QMworks?</font>\n",
    "QMworks is a python library that enables executing complicated workflows of interdependent quantum chemical (QM) calculations in python. It aims at providing a common interface to multiple QM packages, enabling easy and systematic generation of the calculation inputs, as well as facilitating automatic analysis of the results. Furthermore it is build on top of the powerful Noodles framework for executing the calculations in parallel where possible."
   ]
  },
  {
   "cell_type": "markdown",
   "metadata": {},
   "source": [
    "# <font color='blue'> The basics: calling packages</font> \n",
    "Currently **QMWORKS** offers an interface with the following simulation software:\n",
    "* #### SCM (ADF and DTFB)\n",
    "* #### CP2K\n",
    "* #### ORCA\n",
    "* #### GAMESS-US\n",
    "* #### DIRAC\n",
    "\n",
    "With ``qmworks`` you can write a python script that simply calls one of the package objects \n",
    "*adf, dftb, cp2k, orca, gamess* or *dirac*.\n",
    "As arguments to the call, you need to provide a ``settings`` objects defining the input of a calculation, a molecular geometry, and, optionally, a job name that enables you to find back the \"raw\" data of the calculation later on.\n",
    "\n",
    "Let's see how this works:\n",
    "\n",
    "First we define a molecule, for example by reading one from an xyz file:"
   ]
  },
  {
   "cell_type": "code",
   "execution_count": 1,
   "metadata": {
    "collapsed": false,
    "scrolled": true
   },
   "outputs": [
    {
     "name": "stdout",
     "output_type": "stream",
     "text": [
      "  Atoms: \n",
      "    1         C      2.419290      0.606560      0.000000 \n",
      "    2         C      1.671470      1.829570      0.000000 \n",
      "    3         N      1.065290      2.809960      0.000000 \n",
      "    4         H      2.000000      0.000000      1.000000 \n",
      "    5         H      2.000000      0.000000     -1.000000 \n",
      "    6         H      3.600000      0.800000      0.000000 \n",
      "\n"
     ]
    }
   ],
   "source": [
    "from plams import Molecule\n",
    "acetonitrile = Molecule(\"files/acetonitrile.xyz\")\n",
    "print(acetonitrile)"
   ]
  },
  {
   "cell_type": "markdown",
   "metadata": {},
   "source": [
    "Then we can perform geometry optimization on the molecule by a call to the dftb package object:"
   ]
  },
  {
   "cell_type": "code",
   "execution_count": 2,
   "metadata": {
    "collapsed": false
   },
   "outputs": [
    {
     "name": "stdout",
     "output_type": "stream",
     "text": [
      "<noodles.interface.decorator.PromisedObject object at 0x7f2b53707908>\n"
     ]
    },
    {
     "name": "stderr",
     "output_type": "stream",
     "text": [
      "/home/lars/anaconda3/envs/rdkit-env/lib/python3.5/site-packages/rdkit/Chem/PeriodicTable.py:131: FutureWarning: split() requires a non-empty pattern match.\n",
      "  splitLine = blankExpr.split(line)\n"
     ]
    }
   ],
   "source": [
    "from qmworks import dftb, templates, run\n",
    "job = dftb(templates.geometry, acetonitrile)\n",
    "print(job)"
   ]
  },
  {
   "cell_type": "markdown",
   "metadata": {},
   "source": [
    "As you can see, \"job\" is a so-called \"promised object\". It means it first needs to be \"run\" by the Noodles scheduler to return a normal python object."
   ]
  },
  {
   "cell_type": "code",
   "execution_count": 3,
   "metadata": {
    "collapsed": false
   },
   "outputs": [
    {
     "name": "stdout",
     "output_type": "stream",
     "text": [
      "[09:03:58] PLAMS working folder: /home/lars/workspace/qmworks/jupyterNotebooks/plams.4050\n",
      "╭─(running jobs)\n",
      "│ Running dftb ...\n",
      "╰\u001b[s\u001b[1A\u001b[50C(\u001b[38;2;60;180;100m✔\u001b[0m─)(success)\n",
      "\u001b[u<qmworks.packages.SCM.DFTB_Result object at 0x7f2b57ae82b0>\n"
     ]
    }
   ],
   "source": [
    "result = run(job)\n",
    "print(result)"
   ]
  },
  {
   "cell_type": "markdown",
   "metadata": {},
   "source": [
    "We can easily retrieve the calculated properties from the *ADF* calculation such as the dipole or the optimized geometry for use in subsequent calculations."
   ]
  },
  {
   "cell_type": "code",
   "execution_count": 4,
   "metadata": {
    "collapsed": false
   },
   "outputs": [
    {
     "name": "stdout",
     "output_type": "stream",
     "text": [
      "Dipole:  [1.0864213029, -1.9278296041, -0.0]\n",
      "  Atoms: \n",
      "    1         C      2.366998      0.579794      0.000000 \n",
      "    2         C      1.660642      1.834189      0.000000 \n",
      "    3         N      1.089031      2.847969      0.000000 \n",
      "    4         H      2.100157      0.010030      0.887206 \n",
      "    5         H      2.100157      0.010030     -0.887206 \n",
      "    6         H      3.439065      0.764079     -0.000000 \n",
      "\n"
     ]
    }
   ],
   "source": [
    "print(\"Dipole: \", result.dipole)\n",
    "optimized_mol_adf = result.molecule\n",
    "print(optimized_mol_adf)"
   ]
  },
  {
   "cell_type": "markdown",
   "metadata": {},
   "source": [
    "# <font color='blue'> Settings </font> \n",
    "In the above example ``templates.geometry`` was actually a predefined Settings object.\n",
    "You can define and manipulate Settings in a completely flexible manner as will be explained in this section. To facilitate combining different packages in one script, QMworks defines a set of commonly used generic keywords, which can be combined with package specific keywords, to provide maximum flexibility."
   ]
  },
  {
   "cell_type": "code",
   "execution_count": 5,
   "metadata": {
    "collapsed": false
   },
   "outputs": [
    {
     "name": "stdout",
     "output_type": "stream",
     "text": [
      "basis: \tDZP\n",
      "freeze: \t[1, 2, 3]\n",
      "specific: \t\n",
      "         adf: \t\n",
      "             basis: \t\n",
      "                   core: \tlarge\n",
      "\n"
     ]
    }
   ],
   "source": [
    "from qmworks import Settings\n",
    "s = Settings()\n",
    "s.basis = \"DZP\"\n",
    "s.specific.adf.basis.core = \"large\"\n",
    "s.freeze = [1,2,3]\n",
    "print(s)"
   ]
  },
  {
   "cell_type": "markdown",
   "metadata": {},
   "source": [
    "This code snippet illustrates that the ``Settings`` can be specified in two ways, using generic or specific keywords. Generic keywords represent input properties that are present in most simulation packages like a *basis set* while *specific* keywords allow the user to apply specific keywords for a package that are not in a generic dictionary. Upon calling a package with such Settings object, the generic keywords are first translated into package specific keywords and combined with the relevant user defined specific keywords. Note that in the above example, the keywords after ``specific.adf`` will be used only when passed to the package ``adf`` and will be ignored if this settings object is passed to another package. Once all package specific keywords are obtained they are translated into a package specific input file based on the [PLAMS software](https://www.scm.com/doc/plams/index.html).\n",
    "\n",
    "In QMworks/PLAMS multiple settings objects can be combined using e.g. the ``overlay`` function."
   ]
  },
  {
   "cell_type": "code",
   "execution_count": 6,
   "metadata": {
    "collapsed": true
   },
   "outputs": [],
   "source": [
    "merged_settings = templates.geometry.overlay(s)"
   ]
  },
  {
   "cell_type": "markdown",
   "metadata": {},
   "source": [
    "The *overlay* method takes as input a template containing a default set for different packages and also takes the arguments provided by the user, as shown schematically \n",
    "<img src=\"files/merged.png\">\n",
    "\n",
    "This overlay method merged the defaults for a given packages (*ADF* in this case) with the input supplied by the user, always given preference to the user input\n",
    "<img src=\"files/result_merged.png\" width=\"700\">"
   ]
  },
  {
   "cell_type": "markdown",
   "metadata": {},
   "source": [
    "# <font color='blue'> Combining multiple jobs </font>\n"
   ]
  },
  {
   "cell_type": "markdown",
   "metadata": {},
   "source": [
    "Multiple jobs can be combined, while calling the run function only once. The script below combines components outlined above:"
   ]
  },
  {
   "cell_type": "code",
   "execution_count": 7,
   "metadata": {
    "collapsed": false
   },
   "outputs": [
    {
     "name": "stdout",
     "output_type": "stream",
     "text": [
      "<noodles.interface.decorator.PromisedObject object at 0x7f2b535a1358>\n",
      "╭─(running jobs)\n",
      "│ Running dftb dftb_opt...\n",
      "\u001b[s\u001b[1A\u001b[50C(\u001b[38;2;60;180;100m✔\u001b[0m)\u001b[u│ Running adf adf_single...\n",
      "\u001b[s\u001b[1A\u001b[50C(\u001b[38;2;60;180;100m✔\u001b[0m)\u001b[u╰─(success)\n",
      "<noodles.interface.decorator.PromisedObject object at 0x7f2b535a1c50>\n",
      "-1.409487473452905\n"
     ]
    }
   ],
   "source": [
    "from plams import Molecule\n",
    "from qmworks import dftb, adf, templates, run, Settings\n",
    "\n",
    "acetonitrile = Molecule(\"files/acetonitrile.xyz\")\n",
    "\n",
    "dftb_opt = dftb(templates.geometry, acetonitrile, job_name=\"dftb_opt\")\n",
    "\n",
    "s = Settings()\n",
    "s.basis = \"DZP\"\n",
    "s.specific.adf.basis.core = \"large\"\n",
    "print(dftb_opt.molecule)\n",
    "adf_single = adf(templates.singlepoint.overlay(s), dftb_opt.molecule, job_name=\"adf_single\")\n",
    "\n",
    "adf_result = run(adf_single)\n",
    "print(dftb_opt.molecule)\n",
    "\n",
    "print(adf_result.energy)"
   ]
  },
  {
   "cell_type": "markdown",
   "metadata": {
    "collapsed": true
   },
   "source": [
    "In this case the second task adf_single reads the molecule optimized in the first job dftb_opt. Note that dftb_opt as well as dftb_opt.molecule are promised objects. When ``run`` is applied to the adf_single job, noodles builds a graph of dependencies and makes sure all the calculations required to obtain ``adf_result`` are performed.\n",
    "\n",
    "All data related to the calculations, i.e. input files generated by QMworks and the resulting output files generated by the QM packages are stored in folders with the job_names \"dftb_opt\" and \"adf_single\" inside a plams folder:"
   ]
  },
  {
   "cell_type": "code",
   "execution_count": 8,
   "metadata": {
    "collapsed": false
   },
   "outputs": [
    {
     "name": "stdout",
     "output_type": "stream",
     "text": [
      "cache.json  examples.ipynb  \u001b[0m\u001b[01;34mfiles\u001b[0m/  \u001b[01;34mplams.4050\u001b[0m/  tutorial.ipynb\r\n",
      "files in plams folder:\r\n",
      "adf_single  DFTBjob  dftb_opt  plams.4050.log\r\n"
     ]
    }
   ],
   "source": [
    "ls; echo 'files in plams folder:'; ls plams*"
   ]
  },
  {
   "cell_type": "markdown",
   "metadata": {},
   "source": [
    "**Templates** are stored inside the ``qmworks`` package as JSON files. Below the defaults for single point calculations are shown."
   ]
  },
  {
   "cell_type": "code",
   "execution_count": 7,
   "metadata": {
    "collapsed": false
   },
   "outputs": [
    {
     "name": "stdout",
     "output_type": "stream",
     "text": [
      "specific: \t\n",
      "         adf: \t\n",
      "             basis: \t\n",
      "                   type: \tSZ\n",
      "             integration: \t\n",
      "                         accint: \t4.0\n",
      "             scf: \t\n",
      "                 converge: \t1e-06\n",
      "                 iterations: \t100\n",
      "             xc: \t\n",
      "                __block_replace: \tTrue\n",
      "                lda: \t\n",
      "         cp2k: \t\n",
      "              force_eval: \t\n",
      "                         dft: \t\n",
      "                             basis_set_file_name: \t\n",
      "                             mgrid: \t\n",
      "                                   cutoff: \t400\n",
      "                                   ngrids: \t4\n",
      "                             potential_file_name: \t\n",
      "                             print: \t\n",
      "                                   mo: \t\n",
      "                                      add_last: \tnumeric\n",
      "                                      each: \t\n",
      "                                           qs_scf: \t0\n",
      "                                      eigenvalues: \t\n",
      "                                      eigenvectors: \t\n",
      "                                      filename: \t./mo.data\n",
      "                                      ndigits: \t36\n",
      "                                      occupation_numbers: \t\n",
      "                             qs: \t\n",
      "                                method: \tgpw\n",
      "                             scf: \t\n",
      "                                 added_mos: \t\n",
      "                                 eps_scf: \t1e-06\n",
      "                                 max_scf: \t200\n",
      "                                 scf_guess: \trestart\n",
      "                             xc: \t\n",
      "                                xc_functional: \tpbe\n",
      "                         subsys: \t\n",
      "                                cell: \t\n",
      "                                     periodic: \txyz\n",
      "                                topology: \t\n",
      "                                         coord_file_name: \t\n",
      "                                         coordinate: \txyz\n",
      "              global: \t\n",
      "                     print_level: \tlow\n",
      "                     project: \tqmworks-cp2k\n",
      "                     run_type: \tenergy_force\n",
      "         dftb: \t\n",
      "              dftb: \t\n",
      "                   resourcesdir: \tDFTB.org/3ob-3-1\n",
      "              task: \t\n",
      "                   runtype: \tSP\n",
      "         dirac: \t\n",
      "               DIRAC: \tWAVEFUNCTION\n",
      "               HAMILTONIAN: \tLEVY-LEBLOND\n",
      "               WAVE FUNCTION: \tSCF\n",
      "         gamess: \t\n",
      "                basis: \t\n",
      "                      gbasis: \tsto\n",
      "                      ngauss: \t3\n",
      "                contrl: \t\n",
      "                       dfttyp: \tpbe\n",
      "                       scftyp: \trhf\n",
      "         orca: \t\n",
      "              basis: \t\n",
      "                    basis: \tsto_sz\n",
      "              method: \t\n",
      "                     functional: \tlda\n",
      "                     method: \tdft\n",
      "\n"
     ]
    }
   ],
   "source": [
    "print(templates.singlepoint)"
   ]
  },
  {
   "cell_type": "markdown",
   "metadata": {},
   "source": [
    "## A little discussion about graphs\n",
    "*qmworks* is meant to be used for both workflow generation and execution,\n",
    "\n",
    "<img src=\"files/simple_graph.png\">"
   ]
  },
  {
   "cell_type": "code",
   "execution_count": 9,
   "metadata": {
    "collapsed": true
   },
   "outputs": [],
   "source": [
    "from qmworks import run"
   ]
  },
  {
   "cell_type": "markdown",
   "metadata": {
    "collapsed": true
   },
   "source": [
    "\n",
    "### <font color='green'> result = run(frequencies) </font>"
   ]
  },
  {
   "cell_type": "markdown",
   "metadata": {},
   "source": [
    "Once you run the script, as you we will see in the next section, an input file for the *ADF* job is created"
   ]
  },
  {
   "cell_type": "raw",
   "metadata": {},
   "source": [
    "Atoms\n",
    "      1         C      2.419290      0.606560      0.000000 \n",
    "      2         C      1.671470      1.829570      0.000000 \n",
    "      3         N      1.065290      2.809960      0.000000 \n",
    "      4         H      2.000000      0.000000      1.000000 \n",
    "      5         H      2.000000      0.000000     -1.000000 \n",
    "      6         H      3.600000      0.800000      0.000000 \n",
    "End\n",
    "\n",
    "Basis\n",
    "  Type DZP\n",
    "End\n",
    "\n",
    "Constraints\n",
    "  Atom 1\n",
    "  Atom 2\n",
    "  Atom 3\n",
    "End\n",
    "\n",
    "Geometry\n",
    "  Optim cartesian\n",
    "End\n",
    "\n",
    "Integration\n",
    "  Accint 6.0\n",
    "End\n",
    "\n",
    "Scf\n",
    "  Converge 1e-06\n",
    "  Iterations 100\n",
    "End"
   ]
  },
  {
   "cell_type": "markdown",
   "metadata": {},
   "source": [
    "Running in **Cartesius** or **Bazis** through the *Slurm* resource manager can be done using and script like"
   ]
  },
  {
   "cell_type": "raw",
   "metadata": {},
   "source": [
    "#!/bin/bash\n",
    "#SBATCH -t 00:10:00\n",
    "#SBATCH -N 1\n",
    "#SBATCH -n 8\n",
    "\n",
    "module load orca\n",
    "module load adf/2016.102\n",
    "\n",
    "source activate qmworks\n",
    "python optimization_ADF_freq_ORCA.py"
   ]
  },
  {
   "cell_type": "markdown",
   "metadata": {},
   "source": [
    "The Slurm output looks like:"
   ]
  },
  {
   "cell_type": "raw",
   "metadata": {},
   "source": [
    "load orca/3.0.3 (PATH)\n",
    "discarding /home/fza900/anaconda3/envs/qmworks/bin from PATH\n",
    "prepending /home/fza900/anaconda3/envs/qmworks/bin to PATH\n",
    "[11:17:59] PLAMS working folder: /nfs/home6/fza900/orca/Opt/example/plams.23412\n",
    "+-(running jobs)\n",
    "| Running adf ...\n",
    "[11:17:59] Job ADFjob started\n",
    "[11:18:18] Job ADFjob finished with status 'successful' \n",
    "[11:18:18] Job ORCAjob started\n",
    "[11:18:26] Job ORCAjob finished with status 'successful' \n",
    "\n",
    "[    0.           0.           0.           0.           0.           0.\n",
    "  -360.547382  -360.14986    953.943089   954.3062    1049.2305\n",
    "  1385.756519  1399.961717  1399.979552  2602.599662  3080.45671\n",
    "  3175.710785  3177.612274]"
   ]
  }
 ],
 "metadata": {
  "anaconda-cloud": {},
  "kernelspec": {
   "display_name": "Python 3",
   "language": "python",
   "name": "python3"
  },
  "language_info": {
   "codemirror_mode": {
    "name": "ipython",
    "version": 3
   },
   "file_extension": ".py",
   "mimetype": "text/x-python",
   "name": "python",
   "nbconvert_exporter": "python",
   "pygments_lexer": "ipython3",
   "version": "3.5.1"
  }
 },
 "nbformat": 4,
 "nbformat_minor": 1
}
